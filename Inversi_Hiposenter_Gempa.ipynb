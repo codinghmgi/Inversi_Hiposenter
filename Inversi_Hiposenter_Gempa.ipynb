{
  "nbformat": 4,
  "nbformat_minor": 0,
  "metadata": {
    "colab": {
      "name": "Inversi.ipynb",
      "provenance": [],
      "collapsed_sections": []
    },
    "kernelspec": {
      "name": "python3",
      "display_name": "Python 3"
    },
    "language_info": {
      "name": "python"
    }
  },
  "cells": [
    {
      "cell_type": "markdown",
      "source": [
        "Kali ini akan dilakukan inversi berbobot untuk menentukan titik hiposenter berdasarkan waktu tiba yang diterima dari empat stasiun."
      ],
      "metadata": {
        "id": "relbY7z0FJ44"
      }
    },
    {
      "cell_type": "code",
      "source": [
        "import numpy as np\n",
        "import matplotlib.pyplot as plt\n",
        "import copy\n",
        "from numpy.linalg import inv"
      ],
      "metadata": {
        "id": "GQihQgaYD7fQ"
      },
      "execution_count": null,
      "outputs": []
    },
    {
      "cell_type": "code",
      "source": [
        "# Penentuan Hiposenter\n",
        "x0 = 10\n",
        "z0 = 10\n",
        "t0 = 0"
      ],
      "metadata": {
        "id": "ANzj9qqyD9jv"
      },
      "execution_count": null,
      "outputs": []
    },
    {
      "cell_type": "code",
      "source": [
        "#Penentuan posisi stasiun\n",
        "x = [0, 10, 12, 14]\n",
        "z = [0,  5, 12, 16]\n",
        "n = len(x)\n",
        "\n",
        "#Kecepatan Gelombang Vp\n",
        "v = 5"
      ],
      "metadata": {
        "id": "4JbPoWlOEAGH"
      },
      "execution_count": null,
      "outputs": []
    },
    {
      "cell_type": "code",
      "source": [
        "#Menghitung Waktu Tempuh Gelombang \n",
        "t = []\n",
        "for i in range (n):\n",
        "    t.append(((1/v) * np.sqrt((z[i]- z0)**2 + (x[i] - x0)**2 )))"
      ],
      "metadata": {
        "id": "grcVtCFUEJbG"
      },
      "execution_count": null,
      "outputs": []
    },
    {
      "cell_type": "code",
      "source": [
        "#Tebakan awal posisi hiposenter\n",
        "M = [10, 15]\n",
        "init_position = copy.deepcopy(M)"
      ],
      "metadata": {
        "id": "wGiToWp2EPim"
      },
      "execution_count": null,
      "outputs": []
    },
    {
      "cell_type": "code",
      "execution_count": null,
      "metadata": {
        "id": "j9oOvSyH_CxO"
      },
      "outputs": [],
      "source": [
        "xhipo = [init_position[0]]\n",
        "yhipo = [init_position[1]]\n",
        "RMS_ERROR = []\n",
        "\n",
        "# Melakukan Inversi Tanpa menggunakan Pembobotan Faktor\n",
        "for niter in range(100):\n",
        "\n",
        "    gm = []\n",
        "    dgm_dm1 = []\n",
        "    dgm_dm2 = []\n",
        "    for i in range(n):\n",
        "        gm.append(t0 + (1 / v) * (np.sqrt((x[i] - M[0]) ** 2 + (z[i] - M[1]) ** 2)))\n",
        "        dgm_dm1.append((1 / v) * (-1 * (x[i] - M[0])) / (np.sqrt((z[i] - M[1]) ** 2 + (x[i] - M[0]) ** 2)))\n",
        "        dgm_dm2.append((1 / v) * (-1 * (z[i] - M[1])) / (np.sqrt((z[i] - M[1]) ** 2 + (x[i] - M[0]) ** 2)))\n",
        "\n",
        "    J = np.zeros((n, 2))\n",
        "    for i in range(n):\n",
        "        J[i][0] = dgm_dm1[i]\n",
        "        J[i][1] = dgm_dm2[i]\n",
        "\n",
        "    Mo = copy.deepcopy(M)\n",
        "\n",
        "    # Menambahkan model pertubarsi dari inversi ke Mo\n",
        "    Mo = np.reshape(Mo,(2,1))\n",
        "    ti = np.reshape(ti,(n,1))\n",
        "    gm = np.reshape(gm,(n,1))\n",
        "\n",
        "    Model = np.mat(Mo) + np.mat(inv(np.mat(J.transpose())*np.mat(J))) * np.mat(J.transpose())* (np.mat(ti) - np.mat(gm))\n",
        "    M = [Model[0][0], Model[1][0]]\n",
        "    Data = Model.tolist()\n",
        "\n",
        "    xhipo.append(Data[0][0])\n",
        "    yhipo.append(Data[1][0])\n",
        "\n",
        "    # Melakukan perhitungan RMS Error\n",
        "    dt = ti - gm\n",
        "    RMS_ERROR.append(np.sqrt(np.average(dt**2)))"
      ]
    },
    {
      "cell_type": "code",
      "source": [
        "#Menghitung estimasi model\n",
        "inv_without_weighted = []\n",
        "for i in range(len(x)):\n",
        "    inv_without_weighted.append((1 / v) * (-1 * (x[i] - xhipo[-1]) / (np.sqrt((z[i] - yhipo[-1]) ** 2 + (x[i] - xhipo[-1]) ** 2))))\n",
        "\n",
        "#menghitung misfit dengan dan tanpa misfit\n",
        "E = np.mat(np.transpose(np.reshape(inv_without_weighted,(n,1)) - ti)) * np.mat(np.reshape(inv_without_weighted,(n,1)) - ti)\n",
        "\n",
        "print('Misfit : ', E)"
      ],
      "metadata": {
        "colab": {
          "base_uri": "https://localhost:8080/"
        },
        "id": "pY2F8SlXEu8n",
        "outputId": "2d6c9abd-2e0b-41c7-ba86-33b78ac87dec"
      },
      "execution_count": null,
      "outputs": [
        {
          "output_type": "stream",
          "name": "stdout",
          "text": [
            "Misfit :  [[11.74560018]]\n"
          ]
        }
      ]
    },
    {
      "cell_type": "code",
      "source": [
        "plt.plot(xhipo , yhipo ,'o', label = 'Inversi Hiposenter')\n",
        "plt.plot(xhipo , yhipo)\n",
        "plt.plot(init_position[0], init_position[1], 'o', label = 'Posisi Awal', color ='black')\n",
        "plt.plot(x0, z0, 'o',alpha = 0.5, color = 'red', label='Hiposenter Sebenarnya')\n",
        "plt.title('Penentuan Hiposenter')\n",
        "plt.xlabel('Koordinat X')\n",
        "plt.ylabel('Koordinat Z')\n",
        "plt.legend()\n",
        "plt.show()\n",
        "\n",
        "plt.plot(RMS_ERROR,label='RMS Error tanpa bobot')\n",
        "plt.title('RMS ERROR')\n",
        "plt.xlabel('N (iterasi)')\n",
        "plt.ylabel('ERROR')\n",
        "plt.legend()\n",
        "plt.show()"
      ],
      "metadata": {
        "colab": {
          "base_uri": "https://localhost:8080/",
          "height": 573
        },
        "id": "9d73IFHrExeP",
        "outputId": "c6b65fb9-1206-4023-d93e-09100d8e81b8"
      },
      "execution_count": null,
      "outputs": [
        {
          "output_type": "display_data",
          "data": {
            "text/plain": [
              "<Figure size 432x288 with 1 Axes>"
            ],
            "image/png": "[encoded data removed]"
          },
          "metadata": {
            "needs_background": "light"
          }
        },
        {
          "output_type": "display_data",
          "data": {
            "text/plain": [
              "<Figure size 432x288 with 1 Axes>"
            ],
            "image/png": "[encoded data removed]"
          },
          "metadata": {
            "needs_background": "light"
          }
        }
      ]
    }
  ]
}
